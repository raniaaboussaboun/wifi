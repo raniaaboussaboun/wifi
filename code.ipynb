{
 "cells": [
  {
   "cell_type": "code",
   "execution_count": null,
   "metadata": {},
   "outputs": [],
   "source": [
    "IP: 143.110.171.155\n",
    "Location: California, USA\n",
    "ISP: Starlink\n"
   ]
  },
  {
   "cell_type": "markdown",
   "metadata": {},
   "source": [
    "ping test : \n",
    "Pinging google.com with 32 bytes of data:\n",
    "Reply from 142.250.68.142: bytes=32 time=25ms TTL=54\n",
    "Reply from 142.250.68.142: bytes=32 time=27ms TTL=54\n",
    "Reply from 142.250.68.142: bytes=32 time=24ms TTL=54\n",
    "Reply from 142.250.68.142: bytes=32 time=26ms TTL=54\n"
   ]
  },
  {
   "cell_type": "markdown",
   "metadata": {},
   "source": [
    "Tracing route to google.com [142.250.68.142] over a maximum of 30 hops:\n",
    "\n",
    "  1     1 ms    <1 ms    <1 ms  router.starlink.com [192.168.1.1]\n",
    "  2    28 ms    27 ms    27 ms  143.110.171.1\n",
    "  3    29 ms    28 ms    28 ms  142.250.68.142\n"
   ]
  },
  {
   "cell_type": "markdown",
   "metadata": {},
   "source": [
    "wifi\n"
   ]
  },
  {
   "cell_type": "markdown",
   "metadata": {},
   "source": [
    "IP: 73.162.45.132\n",
    "Location: New York, USA\n",
    "ISP: Comcast Cable\n"
   ]
  },
  {
   "cell_type": "markdown",
   "metadata": {},
   "source": [
    "Pinging google.com with 32 bytes of data:\n",
    "Reply from 142.250.68.142: bytes=32 time=10ms TTL=118\n",
    "Reply from 142.250.68.142: bytes=32 time=12ms TTL=118\n",
    "Reply from 142.250.68.142: bytes=32 time=11ms TTL=118\n",
    "Reply from 142.250.68.142: bytes=32 time=10ms TTL=118\n"
   ]
  },
  {
   "cell_type": "markdown",
   "metadata": {},
   "source": [
    "Tracing route to google.com [142.250.68.142] over a maximum of 30 hops:\n",
    "\n",
    "  1     1 ms    <1 ms    <1 ms  router.local [192.168.0.1]\n",
    "  2     9 ms     9 ms     9 ms  96.120.1.1\n",
    "  3    10 ms    10 ms    11 ms  96.110.32.1\n",
    "  4    12 ms    11 ms    11 ms  68.86.91.1\n",
    "  5    10 ms    11 ms    11 ms  142.250.68.142\n"
   ]
  },
  {
   "cell_type": "markdown",
   "metadata": {},
   "source": [
    "search for how to collect stralink data "
   ]
  },
  {
   "cell_type": "code",
   "execution_count": 1,
   "metadata": {},
   "outputs": [],
   "source": [
    "import geopy\n",
    "import geopy.geocoders\n",
    "import speedtest\n",
    "import requests\n",
    "import socket\n",
    "\n",
    "def get_location():\n",
    "    try:\n",
    "        response = requests.get('https://ipinfo.io/')\n",
    "        data = response.json()\n",
    "        location = data['loc'].split(',')\n",
    "        latitude = location[0]\n",
    "        longitude = location[1]\n",
    "        city = data['city']\n",
    "        region = data['region']\n",
    "        country = data['country']\n",
    "        return {\n",
    "            'latitude': latitude,\n",
    "            'longitude': longitude,\n",
    "            'city': city,\n",
    "            'region': region,\n",
    "            'country': country\n",
    "        }\n",
    "    except Exception as e:\n",
    "        print(f\"Error getting location: {e}\")\n",
    "        return None"
   ]
  },
  {
   "cell_type": "code",
   "execution_count": 2,
   "metadata": {},
   "outputs": [],
   "source": [
    "def get_internet_type():\n",
    "    try:\n",
    "        st = speedtest.Speedtest()\n",
    "        download_speed = st.download()\n",
    "        upload_speed = st.upload()\n",
    "        server_names = []\n",
    "        st.get_servers(server_names)\n",
    "        isp = st.results.ping\n",
    "        return {\n",
    "            'download_speed': download_speed,\n",
    "            'upload_speed': upload_speed,\n",
    "            'isp': isp\n",
    "        }\n",
    "    except Exception as e:\n",
    "        print(f\"Error getting internet type: {e}\")\n",
    "        return None"
   ]
  },
  {
   "cell_type": "code",
   "execution_count": 3,
   "metadata": {},
   "outputs": [],
   "source": [
    "\n",
    "\n",
    "\n",
    "def get_additional_features():\n",
    "    try:\n",
    "        hostname = socket.gethostname()\n",
    "        local_ip = socket.gethostbyname(hostname)\n",
    "        public_ip = requests.get('https://api.ipify.org').text\n",
    "        return {\n",
    "            'hostname': hostname,\n",
    "            'local_ip': local_ip,\n",
    "            'public_ip': public_ip\n",
    "        }\n",
    "    except Exception as e:\n",
    "        print(f\"Error getting additional features: {e}\")\n",
    "        return None\n"
   ]
  },
  {
   "cell_type": "code",
   "execution_count": 4,
   "metadata": {},
   "outputs": [
    {
     "name": "stdout",
     "output_type": "stream",
     "text": [
      "Error getting internet type: module 'speedtest' has no attribute 'Speedtest'\n",
      "{'location': {'latitude': '36.8190', 'longitude': '10.1658', 'city': 'Tunis', 'region': 'Tunis Governorate', 'country': 'TN'}, 'internet_type': None, 'additional_features': {'hostname': 'DESKTOP-DLJTKC4', 'local_ip': '192.168.0.175', 'public_ip': '197.16.183.8'}}\n"
     ]
    }
   ],
   "source": [
    "\n",
    "\n",
    "def main():\n",
    "    location = get_location()\n",
    "    internet_type = get_internet_type()\n",
    "    additional_features = get_additional_features()\n",
    "    \n",
    "    data = {\n",
    "        'location': location,\n",
    "        'internet_type': internet_type,\n",
    "        'additional_features': additional_features\n",
    "    }\n",
    "    \n",
    "    print(data)\n",
    "\n",
    "if __name__ == \"__main__\":\n",
    "    main()\n"
   ]
  },
  {
   "cell_type": "code",
   "execution_count": 10,
   "metadata": {},
   "outputs": [
    {
     "name": "stdout",
     "output_type": "stream",
     "text": [
      "{'location': {'latitude': '36.8190', 'longitude': '10.1658', 'city': 'Tunis', 'region': 'Tunis Governorate', 'country': 'TN'}, 'internet_type': {'download_speed': 6.578121487710649, 'upload_speed': 'N/A', 'ping': 'N/A', 'isp': 'N/A'}, 'additional_features': {'hostname': 'DESKTOP-DLJTKC4', 'local_ip': '192.168.0.175', 'public_ip': '197.16.183.8'}}\n"
     ]
    }
   ],
   "source": [
    "import requests\n",
    "import socket\n",
    "import time\n",
    "\n",
    "def get_location():\n",
    "    try:\n",
    "        response = requests.get('https://ipinfo.io/')\n",
    "        data = response.json()\n",
    "        location = data['loc'].split(',')\n",
    "        latitude = location[0]\n",
    "        longitude = location[1]\n",
    "        city = data['city']\n",
    "        region = data['region']\n",
    "        country = data['country']\n",
    "        return {\n",
    "            'latitude': latitude,\n",
    "            'longitude': longitude,\n",
    "            'city': city,\n",
    "            'region': region,\n",
    "            'country': country\n",
    "        }\n",
    "    except Exception as e:\n",
    "        print(f\"Error getting location: {e}\")\n",
    "        return None\n",
    "\n",
    "def get_internet_type():\n",
    "    try:\n",
    "        # URL of a file to download for the speed test\n",
    "        file_url = 'http://ipv4.download.thinkbroadband.com/5MB.zip'\n",
    "        \n",
    "        start_time = time.time()\n",
    "        response = requests.get(file_url, stream=True)\n",
    "        total_size = 0\n",
    "        for chunk in response.iter_content(1024):\n",
    "            total_size += len(chunk)\n",
    "        end_time = time.time()\n",
    "        \n",
    "        download_time = end_time - start_time\n",
    "        download_speed = (total_size * 8) / (download_time * 1e6)  # Convert to Mbps\n",
    "\n",
    "        return {\n",
    "            'download_speed': download_speed,\n",
    "            'upload_speed': 'N/A',  # N/A because we didn't measure upload speed\n",
    "            'ping': 'N/A',  # N/A because we didn't measure ping\n",
    "            'isp': 'N/A'  # N/A because the method doesn't provide ISP info\n",
    "        }\n",
    "    except Exception as e:\n",
    "        print(f\"Error getting internet type: {e}\")\n",
    "        return None\n",
    "\n",
    "def get_additional_features():\n",
    "    try:\n",
    "        hostname = socket.gethostname()\n",
    "        local_ip = socket.gethostbyname(hostname)\n",
    "        public_ip = requests.get('https://api.ipify.org').text\n",
    "        return {\n",
    "            'hostname': hostname,\n",
    "            'local_ip': local_ip,\n",
    "            'public_ip': public_ip\n",
    "        }\n",
    "    except Exception as e:\n",
    "        print(f\"Error getting additional features: {e}\")\n",
    "        return None\n",
    "\n",
    "def main():\n",
    "    location = get_location()\n",
    "    internet_type = get_internet_type()\n",
    "    additional_features = get_additional_features()\n",
    "    \n",
    "    data = {\n",
    "        'location': location,\n",
    "        'internet_type': internet_type,\n",
    "        'additional_features': additional_features\n",
    "    }\n",
    "    \n",
    "    print(data)\n",
    "\n",
    "if __name__ == \"__main__\":\n",
    "    main()\n"
   ]
  },
  {
   "cell_type": "markdown",
   "metadata": {},
   "source": [
    "3600 iterations/ 1h 3600s // save to csv "
   ]
  },
  {
   "cell_type": "code",
   "execution_count": 23,
   "metadata": {},
   "outputs": [],
   "source": [
    "import requests\n",
    "import socket\n",
    "import csv\n",
    "import time\n",
    "from datetime import datetime\n",
    "import subprocess\n",
    "import json"
   ]
  },
  {
   "cell_type": "code",
   "execution_count": 24,
   "metadata": {},
   "outputs": [],
   "source": [
    "import requests\n",
    "import socket\n",
    "import csv\n",
    "import time\n",
    "from datetime import datetime\n",
    "import subprocess\n",
    "import json\n",
    "def get_location():\n",
    "    try:\n",
    "        response = requests.get('https://ipinfo.io/')\n",
    "        data = response.json()\n",
    "        location = data['loc'].split(',')\n",
    "        latitude = location[0]\n",
    "        longitude = location[1]\n",
    "        city = data['city']\n",
    "        region = data['region']\n",
    "        country = data['country']\n",
    "        return {\n",
    "            'latitude': latitude,\n",
    "            'longitude': longitude,\n",
    "            'city': city,\n",
    "            'region': region,\n",
    "            'country': country\n",
    "        }\n",
    "    except Exception as e:\n",
    "        print(f\"Error getting location: {e}\")\n",
    "        return None"
   ]
  },
  {
   "cell_type": "code",
   "execution_count": 25,
   "metadata": {},
   "outputs": [],
   "source": [
    "def get_internet_type():\n",
    "    try:\n",
    "        result = subprocess.run(['speedtest-cli', '--json'], capture_output=True, text=True)\n",
    "        if result.returncode != 0:\n",
    "            print(f\"Error running speedtest-cli: {result.stderr}\")\n",
    "            return None\n",
    "        data = json.loads(result.stdout)\n",
    "        download_speed = data['download'] / 10**6  \n",
    "        upload_speed = data['upload'] / 10**6  \n",
    "        isp = data['client']['isp']\n",
    "        return {\n",
    "            'download_speed': download_speed,\n",
    "            'upload_speed': upload_speed,\n",
    "            'isp': isp\n",
    "        }\n",
    "    except json.JSONDecodeError as e:\n",
    "        print(f\"Error parsing JSON: {e}\")\n",
    "    except Exception as e:\n",
    "        print(f\"Error getting internet type: {e}\")\n",
    "        return None"
   ]
  },
  {
   "cell_type": "code",
   "execution_count": null,
   "metadata": {},
   "outputs": [],
   "source": [
    "\n",
    "def get_additional_features():\n",
    "    try:\n",
    "        hostname = socket.gethostname()\n",
    "        local_ip = socket.gethostbyname(hostname)\n",
    "        public_ip = requests.get('https://api.ipify.org').text\n",
    "        return {\n",
    "            'hostname': hostname,\n",
    "            'local_ip': local_ip,\n",
    "            'public_ip': public_ip\n",
    "        }\n",
    "    except Exception as e:\n",
    "        print(f\"Error getting additional features: {e}\")\n",
    "        return None\n"
   ]
  },
  {
   "cell_type": "markdown",
   "metadata": {},
   "source": [
    "try\"\n"
   ]
  },
  {
   "cell_type": "code",
   "execution_count": 1,
   "metadata": {},
   "outputs": [
    {
     "name": "stdout",
     "output_type": "stream",
     "text": [
      "Public IP: 196.224.232.178\n"
     ]
    }
   ],
   "source": [
    "import requests\n",
    "\n",
    "def get_public_ip():\n",
    "    response = requests.get('https://api.ipify.org?format=json')\n",
    "    return response.json()['ip']\n",
    "\n",
    "public_ip = get_public_ip()\n",
    "print(f\"Public IP: {public_ip}\")\n"
   ]
  },
  {
   "cell_type": "code",
   "execution_count": 2,
   "metadata": {},
   "outputs": [
    {
     "name": "stdout",
     "output_type": "stream",
     "text": [
      "ISP Info: {'ip': '196.224.232.178', 'city': 'Tunis', 'region': 'Tunis Governorate', 'country': 'TN', 'loc': '36.8190,10.1658', 'org': 'AS37492 Orange Tunisie', 'timezone': 'Africa/Tunis', 'readme': 'https://ipinfo.io/missingauth'}\n"
     ]
    }
   ],
   "source": [
    "def get_isp_info(ip):\n",
    "    response = requests.get(f'https://ipinfo.io/{ip}/json')\n",
    "    return response.json()\n",
    "\n",
    "isp_info = get_isp_info(public_ip)\n",
    "print(f\"ISP Info: {isp_info}\")\n"
   ]
  },
  {
   "cell_type": "markdown",
   "metadata": {},
   "source": [
    "if it's starlink :AS14593"
   ]
  },
  {
   "cell_type": "code",
   "execution_count": 10,
   "metadata": {},
   "outputs": [
    {
     "name": "stdout",
     "output_type": "stream",
     "text": [
      "Geolocation Info: {'error': 'captcha_failed'}\n"
     ]
    }
   ],
   "source": [
    "def get_geolocation(ip):\n",
    "    response = requests.get(f'https://ipstack.com/ipstack_api.php?ip={ip}')\n",
    "    return response.json()\n",
    "\n",
    "geo_info = get_geolocation(public_ip)\n",
    "print(f\"Geolocation Info: {geo_info}\")\n"
   ]
  },
  {
   "cell_type": "code",
   "execution_count": 11,
   "metadata": {},
   "outputs": [
    {
     "name": "stdout",
     "output_type": "stream",
     "text": [
      "{'IP Address': '196.224.232.178', 'ISP': 'AS37492 Orange Tunisie', 'Connection Type': 'Unknown', 'Location': {'City': None, 'Region': None, 'Country': None, 'Latitude': None, 'Longitude': None}}\n"
     ]
    }
   ],
   "source": [
    "def get_internet_details():\n",
    "    ip = get_public_ip()\n",
    "    isp_info = get_isp_info(ip)\n",
    "    geo_info = get_geolocation(ip)\n",
    "    \n",
    "    details = {\n",
    "        \"IP Address\": ip,\n",
    "        \"ISP\": isp_info.get('org'),\n",
    "        \"Connection Type\": isp_info.get('type', 'Unknown'),\n",
    "        \"Location\": {\n",
    "            \"City\": geo_info.get('city'),\n",
    "            \"Region\": geo_info.get('region_name'),\n",
    "            \"Country\": geo_info.get('country_name'),\n",
    "            \"Latitude\": geo_info.get('latitude'),\n",
    "            \"Longitude\": geo_info.get('longitude'),\n",
    "        }\n",
    "    }\n",
    "    return details\n",
    "\n",
    "internet_details = get_internet_details()\n",
    "print(internet_details)\n"
   ]
  },
  {
   "cell_type": "code",
   "execution_count": null,
   "metadata": {},
   "outputs": [],
   "source": [
    "import requests\n",
    "import pandas as pd\n",
    "import time\n",
    "from datetime import datetime\n",
    "\n",
    "def get_public_ip():\n",
    "    response = requests.get('https://api.ipify.org?format=json')\n",
    "    return response.json()['ip']\n",
    "\n",
    "def get_isp_info(ip):\n",
    "    response = requests.get(f'https://ipinfo.io/{ip}/json')\n",
    "    return response.json()\n",
    "\n",
    "def get_internet_details():\n",
    "    ip = get_public_ip()\n",
    "    isp_info = get_isp_info(ip)\n",
    "    \n",
    "    loc = isp_info.get('loc', 'Unknown,Unknown').split(',')\n",
    "    \n",
    "    details = {\n",
    "        \"Timestamp\": datetime.now().strftime('%Y-%m-%d %H:%M:%S'),\n",
    "        \"IP Address\": ip,\n",
    "        \"ISP\": isp_info.get('org', 'Unknown'),\n",
    "        \"City\": isp_info.get('city', 'Unknown'),\n",
    "        \"Region\": isp_info.get('region', 'Unknown'),\n",
    "        \"Country\": isp_info.get('country', 'Unknown'),\n",
    "        \"Latitude\": loc[0] if len(loc) > 1 else 'Unknown',\n",
    "        \"Longitude\": loc[1] if len(loc) > 1 else 'Unknown',\n",
    "        \"Network Type\": isp_info.get('org', 'Unknown')\n",
    "    }\n",
    "    return details\n",
    "\n",
    "def collect_data_for_one_hour(filename='internet_details.csv', interval=3600):\n",
    "    df = pd.DataFrame(columns=[\n",
    "        \"Timestamp\", \"IP Address\", \"ISP\", \"City\", \n",
    "        \"Region\", \"Country\", \"Latitude\", \"Longitude\", \"Network Type\"\n",
    "    ])\n",
    "    \n",
    "    end_time = time.time() + interval\n",
    "    while time.time() < end_time:\n",
    "        internet_details = get_internet_details()\n",
    "        temp_df = pd.DataFrame([internet_details])\n",
    "        df = pd.concat([df, temp_df], ignore_index=True)\n",
    "        \n",
    "        time.sleep(3600)\n",
    "\n",
    "    df.to_csv(filename, index=False)\n",
    "\n",
    "collect_data_for_one_hour()\n"
   ]
  },
  {
   "cell_type": "code",
   "execution_count": 1,
   "metadata": {},
   "outputs": [
    {
     "name": "stdout",
     "output_type": "stream",
     "text": [
      "{'Timestamp': '2024-07-07 11:04:01', 'IP Address': '196.224.232.178', 'ISP': 'AS37492 Orange Tunisie', 'City': 'Tunis', 'Region': 'Tunis Governorate', 'Country': 'TN', 'Latitude': '36.8190', 'Longitude': '10.1658', 'Network Type': 'AS37492 Orange Tunisie'}\n"
     ]
    }
   ],
   "source": [
    "import requests\n",
    "import pandas as pd\n",
    "from datetime import datetime\n",
    "\n",
    "def get_public_ip():\n",
    "    response = requests.get('https://api.ipify.org?format=json')\n",
    "    return response.json()['ip']\n",
    "\n",
    "def get_isp_info(ip):\n",
    "    response = requests.get(f'https://ipinfo.io/{ip}/json')\n",
    "    return response.json()\n",
    "\n",
    "def get_internet_details():\n",
    "    ip = get_public_ip()\n",
    "    isp_info = get_isp_info(ip)\n",
    "    \n",
    "    loc = isp_info.get('loc', 'Unknown,Unknown').split(',')\n",
    "    \n",
    "    details = {\n",
    "        \"Timestamp\": datetime.now().strftime('%Y-%m-%d %H:%M:%S'),\n",
    "        \"IP Address\": ip,\n",
    "        \"ISP\": isp_info.get('org', 'Unknown'),\n",
    "        \"City\": isp_info.get('city', 'Unknown'),\n",
    "        \"Region\": isp_info.get('region', 'Unknown'),\n",
    "        \"Country\": isp_info.get('country', 'Unknown'),\n",
    "        \"Latitude\": loc[0] if len(loc) > 1 else 'Unknown',\n",
    "        \"Longitude\": loc[1] if len(loc) > 1 else 'Unknown',\n",
    "        \"Network Type\": isp_info.get('org', 'Unknown')\n",
    "    }\n",
    "    return details\n",
    "\n",
    "# Test the function for a single run\n",
    "internet_details = get_internet_details()\n",
    "print(internet_details)\n"
   ]
  },
  {
   "cell_type": "markdown",
   "metadata": {},
   "source": [
    "final code"
   ]
  },
  {
   "cell_type": "code",
   "execution_count": 3,
   "metadata": {},
   "outputs": [
    {
     "name": "stdout",
     "output_type": "stream",
     "text": [
      "{'Timestamp': '2024-07-07 11:06:21', 'IP Address': '196.224.232.178', 'ISP': 'AS37492 Orange Tunisie', 'City': 'Tunis', 'Region': 'Tunis Governorate', 'Country': 'TN', 'Latitude': '36.8190', 'Longitude': '10.1658', 'Network Type': 'AS37492 Orange Tunisie', 'Download Speed (Mbps)': 10.642551227232921, 'Upload Speed (Mbps)': 29.295790137888357, 'Ping (ms)': 126.492}\n"
     ]
    }
   ],
   "source": [
    "import requests\n",
    "import pandas as pd\n",
    "from datetime import datetime\n",
    "import speedtest\n",
    "\n",
    "def get_public_ip():\n",
    "    response = requests.get('https://api.ipify.org?format=json')\n",
    "    return response.json()['ip']\n",
    "\n",
    "def get_isp_info(ip):\n",
    "    response = requests.get(f'https://ipinfo.io/{ip}/json')\n",
    "    return response.json()\n",
    "\n",
    "def is_starlink(isp_info):\n",
    "    known_starlink_asn = \"AS14593\"\n",
    "    known_starlink_org = \"Space Exploration Technologies Corp\"\n",
    "    return isp_info.get('org') == known_starlink_org or isp_info.get('asn') == known_starlink_asn\n",
    "\n",
    "def get_internet_speed():\n",
    "    st = speedtest.Speedtest()\n",
    "    st.download()\n",
    "    st.upload()\n",
    "    results = st.results.dict()\n",
    "    return {\n",
    "        \"Download Speed (Mbps)\": results[\"download\"] / 1_000_000,\n",
    "        \"Upload Speed (Mbps)\": results[\"upload\"] / 1_000_000,\n",
    "        \"Ping (ms)\": results[\"ping\"]\n",
    "    }\n",
    "\n",
    "def get_internet_details():\n",
    "    ip = get_public_ip()\n",
    "    isp_info = get_isp_info(ip)\n",
    "    \n",
    "    loc = isp_info.get('loc', 'Unknown,Unknown').split(',')\n",
    "    \n",
    "    speed_info = get_internet_speed()\n",
    "    \n",
    "    details = {\n",
    "        \"Timestamp\": datetime.now().strftime('%Y-%m-%d %H:%M:%S'),\n",
    "        \"IP Address\": ip,\n",
    "        \"ISP\": isp_info.get('org', 'Unknown'),\n",
    "        \"City\": isp_info.get('city', 'Unknown'),\n",
    "        \"Region\": isp_info.get('region', 'Unknown'),\n",
    "        \"Country\": isp_info.get('country', 'Unknown'),\n",
    "        \"Latitude\": loc[0] if len(loc) > 1 else 'Unknown',\n",
    "        \"Longitude\": loc[1] if len(loc) > 1 else 'Unknown',\n",
    "        \"Network Type\": \"Starlink\" if is_starlink(isp_info) else isp_info.get('org', 'Unknown'),\n",
    "        \"Download Speed (Mbps)\": speed_info[\"Download Speed (Mbps)\"],\n",
    "        \"Upload Speed (Mbps)\": speed_info[\"Upload Speed (Mbps)\"],\n",
    "        \"Ping (ms)\": speed_info[\"Ping (ms)\"]\n",
    "    }\n",
    "    return details\n",
    "\n",
    "internet_details = get_internet_details()\n",
    "print(internet_details)\n"
   ]
  },
  {
   "cell_type": "markdown",
   "metadata": {},
   "source": [
    "save to csv file/ in this code only for 5mins "
   ]
  },
  {
   "cell_type": "code",
   "execution_count": 1,
   "metadata": {},
   "outputs": [
    {
     "name": "stdout",
     "output_type": "stream",
     "text": [
      "{'Timestamp': '2024-07-09 09:21:08', 'IP Address': '196.224.143.148', 'ISP': 'AS37492 Orange Tunisie', 'City': 'Nabeul', 'Region': 'Nabeul Governorate', 'Country': 'TN', 'Latitude': '36.4561', 'Longitude': '10.7376', 'Network Type': 'AS37492 Orange Tunisie', 'Download Speed (Mbps)': 13.396286800952568, 'Upload Speed (Mbps)': 31.191351199737895, 'Ping (ms)': 41.617}\n",
      "{'Timestamp': '2024-07-09 09:22:33', 'IP Address': '196.224.143.148', 'ISP': 'AS37492 Orange Tunisie', 'City': 'Nabeul', 'Region': 'Nabeul Governorate', 'Country': 'TN', 'Latitude': '36.4561', 'Longitude': '10.7376', 'Network Type': 'AS37492 Orange Tunisie', 'Download Speed (Mbps)': 22.65006514955883, 'Upload Speed (Mbps)': 37.04583397967577, 'Ping (ms)': 39.965}\n",
      "{'Timestamp': '2024-07-09 09:23:57', 'IP Address': '196.224.143.148', 'ISP': 'AS37492 Orange Tunisie', 'City': 'Nabeul', 'Region': 'Nabeul Governorate', 'Country': 'TN', 'Latitude': '36.4561', 'Longitude': '10.7376', 'Network Type': 'AS37492 Orange Tunisie', 'Download Speed (Mbps)': 23.0721435423761, 'Upload Speed (Mbps)': 26.01406320689286, 'Ping (ms)': 38.257}\n",
      "{'Timestamp': '2024-07-09 09:25:21', 'IP Address': '196.224.143.148', 'ISP': 'AS37492 Orange Tunisie', 'City': 'Nabeul', 'Region': 'Nabeul Governorate', 'Country': 'TN', 'Latitude': '36.4561', 'Longitude': '10.7376', 'Network Type': 'AS37492 Orange Tunisie', 'Download Speed (Mbps)': 19.30620745751046, 'Upload Speed (Mbps)': 33.95813645169273, 'Ping (ms)': 33.217}\n"
     ]
    }
   ],
   "source": [
    "import requests\n",
    "import pandas as pd\n",
    "from datetime import datetime\n",
    "import speedtest\n",
    "import time\n",
    "import csv\n",
    "\n",
    "def get_public_ip():\n",
    "    response = requests.get('https://api.ipify.org?format=json')\n",
    "    return response.json()['ip']\n",
    "\n",
    "def get_isp_info(ip):\n",
    "    response = requests.get(f'https://ipinfo.io/{ip}/json')\n",
    "    return response.json()\n",
    "\n",
    "def is_starlink(isp_info):\n",
    "    known_starlink_asn = \"AS14593\"\n",
    "    known_starlink_org = \"Space Exploration Technologies Corp\"\n",
    "    return isp_info.get('org') == known_starlink_org or isp_info.get('asn') == known_starlink_asn\n",
    "\n",
    "def get_internet_speed():\n",
    "    st = speedtest.Speedtest()\n",
    "    st.download()\n",
    "    st.upload()\n",
    "    results = st.results.dict()\n",
    "    return {\n",
    "        \"Download Speed (Mbps)\": results[\"download\"] / 1_000_000,\n",
    "        \"Upload Speed (Mbps)\": results[\"upload\"] / 1_000_000,\n",
    "        \"Ping (ms)\": results[\"ping\"]\n",
    "    }\n",
    "\n",
    "def get_internet_details():\n",
    "    ip = get_public_ip()\n",
    "    isp_info = get_isp_info(ip)\n",
    "    \n",
    "    loc = isp_info.get('loc', 'Unknown,Unknown').split(',')\n",
    "    \n",
    "    speed_info = get_internet_speed()\n",
    "    \n",
    "    details = {\n",
    "        \"Timestamp\": datetime.now().strftime('%Y-%m-%d %H:%M:%S'),\n",
    "        \"IP Address\": ip,\n",
    "        \"ISP\": isp_info.get('org', 'Unknown'),\n",
    "        \"City\": isp_info.get('city', 'Unknown'),\n",
    "        \"Region\": isp_info.get('region', 'Unknown'),\n",
    "        \"Country\": isp_info.get('country', 'Unknown'),\n",
    "        \"Latitude\": loc[0] if len(loc) > 1 else 'Unknown',\n",
    "        \"Longitude\": loc[1] if len(loc) > 1 else 'Unknown',\n",
    "        \"Network Type\": \"Starlink\" if is_starlink(isp_info) else isp_info.get('org', 'Unknown'),\n",
    "        \"Download Speed (Mbps)\": speed_info[\"Download Speed (Mbps)\"],\n",
    "        \"Upload Speed (Mbps)\": speed_info[\"Upload Speed (Mbps)\"],\n",
    "        \"Ping (ms)\": speed_info[\"Ping (ms)\"]\n",
    "    }\n",
    "    return details\n",
    "\n",
    "with open('internet_info.csv', 'w', newline='') as csvfile:\n",
    "    fieldnames = [\"Timestamp\", \"IP Address\", \"ISP\", \"City\", \"Region\", \"Country\", \"Latitude\", \"Longitude\", \"Network Type\", \"Download Speed (Mbps)\", \"Upload Speed (Mbps)\", \"Ping (ms)\"]\n",
    "    writer = csv.DictWriter(csvfile, fieldnames=fieldnames)\n",
    "    writer.writeheader()\n",
    "\n",
    "for i in range(4):\n",
    "    internet_details = get_internet_details()\n",
    "    print(internet_details)\n",
    "    \n",
    "    with open('internet_info.csv', 'a', newline='') as csvfile:\n",
    "        writer = csv.DictWriter(csvfile, fieldnames=fieldnames)\n",
    "        writer.writerow(internet_details)\n",
    "    \n",
    "    time.sleep(60)"
   ]
  },
  {
   "cell_type": "code",
   "execution_count": 1,
   "metadata": {},
   "outputs": [
    {
     "name": "stdout",
     "output_type": "stream",
     "text": [
      "{'Timestamp': '2024-07-12 19:20:14', 'IP Address': '197.27.222.67', 'ISP': 'AS37492 Orange Tunisie', 'City': 'Tunis', 'Region': 'Tunis Governorate', 'Country': 'TN', 'Latitude': '36.8190', 'Longitude': '10.1658', 'Network Type': 'AS37492 Orange Tunisie', 'Download Speed (Mbps)': 22.522514626834436, 'Upload Speed (Mbps)': 34.98839630986821, 'Ping (ms)': 41.339}\n"
     ]
    }
   ],
   "source": [
    "import requests\n",
    "import pandas as pd\n",
    "from datetime import datetime\n",
    "import speedtest\n",
    "import time\n",
    "import csv\n",
    "\n",
    "def get_public_ip():\n",
    "    response = requests.get('https://api.ipify.org?format=json')\n",
    "    return response.json()['ip']\n",
    "\n",
    "def get_isp_info(ip):\n",
    "    response = requests.get(f'https://ipinfo.io/{ip}/json')\n",
    "    return response.json()\n",
    "\n",
    "def is_starlink(isp_info):\n",
    "    known_starlink_asn = \"AS14593\"\n",
    "    known_starlink_org = \"Space Exploration Technologies Corp\"\n",
    "    return isp_info.get('org') == known_starlink_org or isp_info.get('asn') == known_starlink_asn\n",
    "\n",
    "def get_internet_speed():\n",
    "    st = speedtest.Speedtest()\n",
    "    st.download()\n",
    "    st.upload()\n",
    "    results = st.results.dict()\n",
    "    return {\n",
    "        \"Download Speed (Mbps)\": results[\"download\"] / 1_000_000,\n",
    "        \"Upload Speed (Mbps)\": results[\"upload\"] / 1_000_000,\n",
    "        \"Ping (ms)\": results[\"ping\"]\n",
    "    }\n",
    "\n",
    "def get_internet_details():\n",
    "    ip = get_public_ip()\n",
    "    isp_info = get_isp_info(ip)\n",
    "    \n",
    "    loc = isp_info.get('loc', 'Unknown,Unknown').split(',')\n",
    "    \n",
    "    speed_info = get_internet_speed()\n",
    "    \n",
    "    details = {\n",
    "        \"Timestamp\": datetime.now().strftime('%Y-%m-%d %H:%M:%S'),\n",
    "        \"IP Address\": ip,\n",
    "        \"ISP\": isp_info.get('org', 'Unknown'),\n",
    "        \"City\": isp_info.get('city', 'Unknown'),\n",
    "        \"Region\": isp_info.get('region', 'Unknown'),\n",
    "        \"Country\": isp_info.get('country', 'Unknown'),\n",
    "        \"Latitude\": loc[0] if len(loc) > 1 else 'Unknown',\n",
    "        \"Longitude\": loc[1] if len(loc) > 1 else 'Unknown',\n",
    "        \"Network Type\": \"Starlink\" if is_starlink(isp_info) else isp_info.get('org', 'Unknown'),\n",
    "        \"Download Speed (Mbps)\": speed_info[\"Download Speed (Mbps)\"],\n",
    "        \"Upload Speed (Mbps)\": speed_info[\"Upload Speed (Mbps)\"],\n",
    "        \"Ping (ms)\": speed_info[\"Ping (ms)\"]\n",
    "    }\n",
    "    return details\n",
    "\n",
    "with open('internet_info.csv', 'w', newline='') as csvfile:\n",
    "    fieldnames = [\"Timestamp\", \"IP Address\", \"ISP\", \"City\", \"Region\", \"Country\", \"Latitude\", \"Longitude\", \"Network Type\", \"Download Speed (Mbps)\", \"Upload Speed (Mbps)\", \"Ping (ms)\"]\n",
    "    writer = csv.DictWriter(csvfile, fieldnames=fieldnames)\n",
    "    writer.writeheader()\n",
    "\n",
    "for i in range(4):\n",
    "    internet_details = get_internet_details()\n",
    "    print(internet_details)\n",
    "    \n",
    "    with open('internet_info.csv', 'a', newline='') as csvfile:\n",
    "        writer = csv.DictWriter(csvfile, fieldnames=fieldnames)\n",
    "        writer.writerow(internet_details)\n",
    "    \n",
    "    time.sleep(60)"
   ]
  },
  {
   "cell_type": "code",
   "execution_count": null,
   "metadata": {},
   "outputs": [],
   "source": []
  }
 ],
 "metadata": {
  "kernelspec": {
   "display_name": "deep",
   "language": "python",
   "name": "python3"
  },
  "language_info": {
   "codemirror_mode": {
    "name": "ipython",
    "version": 3
   },
   "file_extension": ".py",
   "mimetype": "text/x-python",
   "name": "python",
   "nbconvert_exporter": "python",
   "pygments_lexer": "ipython3",
   "version": "3.10.9"
  }
 },
 "nbformat": 4,
 "nbformat_minor": 2
}
